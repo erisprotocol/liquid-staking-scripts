{
 "cells": [
  {
   "cell_type": "code",
   "execution_count": null,
   "metadata": {
    "vscode": {
     "languageId": "shellscript"
    }
   },
   "outputs": [],
   "source": [
    "junod keys add mainnet --recover"
   ]
  },
  {
   "cell_type": "code",
   "execution_count": null,
   "metadata": {
    "vscode": {
     "languageId": "shellscript"
    }
   },
   "outputs": [],
   "source": [
    "sudo apt install gnome-keyring\n",
    "gnome-keyring-daemon --replace --foreground --components=secrets,ssh,pcks11"
   ]
  },
  {
   "cell_type": "code",
   "execution_count": null,
   "metadata": {
    "vscode": {
     "languageId": "shellscript"
    }
   },
   "outputs": [],
   "source": [
    "\n",
    "junod tx wasm execute juno17cya4sw72h4886zsm2lk3udxaw5m8ssgpsl6nd6xl6a4ukepdgkqeuv99x \\\n",
    "  '{\"bond\":{}}' \\\n",
    "  --amount 100ujuno \\\n",
    "  --from relayer \\\n",
    "  --chain-id juno-1 \\\n",
    "  --node https://rpc.juno.omniflix.co:443 \\\n",
    "  --gas-prices 0.0025ujuno --gas auto --gas-adjustment 1.05 -b block"
   ]
  },
  {
   "cell_type": "code",
   "execution_count": null,
   "metadata": {
    "vscode": {
     "languageId": "shellscript"
    }
   },
   "outputs": [],
   "source": [
    "ampJuno: juno1a0khag6cfzu5lrwazmyndjgvlsuk7g4vn9jd8ceym8f4jf6v2l9q6d348a\n",
    "\n",
    "receiver:\n",
    "\n",
    "{ \"channel\": \"channel-154\", \"remote_address\": \"terra1xjfga2ezjv8jmfdw54srn79sqevrm8atm656a0\", \"timeout\":600 }\n",
    "=\n",
    "eyAiY2hhbm5lbCI6ICJjaGFubmVsLTE1NCIsICJyZW1vdGVfYWRkcmVzcyI6ICJ0ZXJyYTF4amZnYTJlemp2OGptZmR3NTRzcm43OXNxZXZybThhdG02NTZhMCIsICJ0aW1lb3V0Ijo2MDAgfQ==\n",
    "\n",
    "junod tx wasm execute juno1a0khag6cfzu5lrwazmyndjgvlsuk7g4vn9jd8ceym8f4jf6v2l9q6d348a \\\n",
    "  '{\"send\":{\"contract\":\"juno1v4887y83d6g28puzvt8cl0f3cdhd3y6y9mpysnsp3k8krdm7l6jqgm0rkn\",\"amount\":\"1\",\"msg\":\"eyAiY2hhbm5lbCI6ICJjaGFubmVsLTE1NCIsICJyZW1vdGVfYWRkcmVzcyI6ICJ0ZXJyYTF4amZnYTJlemp2OGptZmR3NTRzcm43OXNxZXZybThhdG02NTZhMCIsICJ0aW1lb3V0Ijo2MDAgfQ==\"}}' \\\n",
    "  --from relayer \\\n",
    "  --chain-id juno-1 \\\n",
    "  --node https://rpc.juno.omniflix.co:443 \\\n",
    "  --gas-prices 0.0025ujuno --gas auto --gas-adjustment 1.05 -b block"
   ]
  },
  {
   "cell_type": "code",
   "execution_count": null,
   "metadata": {
    "vscode": {
     "languageId": "shellscript"
    }
   },
   "outputs": [],
   "source": [
    "junod tx wasm store ./binaries/eris_staking_hub.wasm --from mainnet --chain-id=juno-1  --node https://rpc.juno.omniflix.co:443 --gas-prices 0.0025ujuno --gas auto --gas-adjustment 1.3 -b block\n",
    "\n",
    "Code Id: 1299\n",
    "\n",
    "junod tx wasm migrate 'juno17cya4sw72h4886zsm2lk3udxaw5m8ssgpsl6nd6xl6a4ukepdgkqeuv99x' 1299 '{}' --from mainnet --chain-id=juno-1  --node https://rpc.juno.omniflix.co:443 --gas-prices 0.0025ujuno --gas auto --gas-adjustment 1.3 -b block\n",
    "\n",
    "\n"
   ]
  }
 ],
 "metadata": {
  "language_info": {
   "name": "python"
  },
  "orig_nbformat": 4
 },
 "nbformat": 4,
 "nbformat_minor": 2
}
